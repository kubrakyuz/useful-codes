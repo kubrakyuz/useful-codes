{
 "cells": [
  {
   "cell_type": "markdown",
   "id": "outstanding-exhibition",
   "metadata": {},
   "source": [
    "# Patika Python Temel Proje Soruları"
   ]
  },
  {
   "cell_type": "markdown",
   "id": "several-ethiopia",
   "metadata": {},
   "source": [
    "### 1.Soru"
   ]
  },
  {
   "cell_type": "markdown",
   "id": "running-orchestra",
   "metadata": {},
   "source": [
    "Bir listeyi düzleştiren (flatten) fonksiyon yazın. Elemanları birden çok katmanlı listtlerden ([[3],2] gibi) oluşabileceği gibi, non-scalar verilerden de oluşabilir. Örnek olarak:\n",
    "\n",
    "input: [[1,'a',['cat'],2],[[[3]],'dog'],4,5]\n",
    "\n",
    "output: [1,'a','cat',2,3,'dog',4,5]"
   ]
  },
  {
   "cell_type": "code",
   "execution_count": null,
   "id": "imported-apache",
   "metadata": {},
   "outputs": [],
   "source": [
    "\n",
    "def flat_list(l):\n",
    "    new_l=list()\n",
    "    for i in l:\n",
    "        if isinstance(i, list):\n",
    "            new_l.extend(flat_list(i))\n",
    "        else:\n",
    "            new_l.append(i)\n",
    "    return new_l"
   ]
  },
  {
   "cell_type": "code",
   "execution_count": null,
   "id": "cosmetic-guarantee",
   "metadata": {},
   "outputs": [],
   "source": [
    "l=  [[1,'a',['cat'],2],[[[3]],'dog'],4,5]\n",
    "\n",
    "flat_list(l)"
   ]
  },
  {
   "cell_type": "markdown",
   "id": "directed-bruce",
   "metadata": {},
   "source": [
    "### 2.Soru"
   ]
  },
  {
   "cell_type": "markdown",
   "id": "legislative-discretion",
   "metadata": {},
   "source": [
    "Verilen listenin içindeki elemanları tersine döndüren bir fonksiyon yazın. Eğer listenin içindeki elemanlar da liste içeriyorsa onların elemanlarını da tersine döndürün. Örnek olarak:\n",
    "\n",
    "input: [[1, 2], [3, 4], [5, 6, 7]]\n",
    "\n",
    "output: [[[7, 6, 5], [4, 3], [2, 1]]"
   ]
  },
  {
   "cell_type": "code",
   "execution_count": null,
   "id": "handy-angel",
   "metadata": {},
   "outputs": [],
   "source": [
    "def reversed_list(l):\n",
    "    r_list=[]\n",
    "\n",
    "    for i in l:\n",
    "        r_list.append(i[::-1])\n",
    "        r_list.reverse()\n",
    "    return r_list\n",
    "    "
   ]
  },
  {
   "cell_type": "code",
   "execution_count": null,
   "id": "unlike-combat",
   "metadata": {},
   "outputs": [],
   "source": [
    "l2= [[1, 2], [3, 4], [5, 6, 7]]"
   ]
  },
  {
   "cell_type": "code",
   "execution_count": null,
   "id": "initial-movement",
   "metadata": {},
   "outputs": [],
   "source": [
    "print(reversed_list(l2))"
   ]
  },
  {
   "cell_type": "code",
   "execution_count": null,
   "id": "billion-nursery",
   "metadata": {},
   "outputs": [],
   "source": []
  }
 ],
 "metadata": {
  "kernelspec": {
   "display_name": "Python 3",
   "language": "python",
   "name": "python3"
  },
  "language_info": {
   "codemirror_mode": {
    "name": "ipython",
    "version": 3
   },
   "file_extension": ".py",
   "mimetype": "text/x-python",
   "name": "python",
   "nbconvert_exporter": "python",
   "pygments_lexer": "ipython3",
   "version": "3.8.7"
  }
 },
 "nbformat": 4,
 "nbformat_minor": 5
}
