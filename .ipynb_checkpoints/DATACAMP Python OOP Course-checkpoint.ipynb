{
 "cells": [
  {
   "cell_type": "markdown",
   "id": "acute-north",
   "metadata": {},
   "source": [
    "## OOP DataCamp"
   ]
  },
  {
   "cell_type": "code",
   "execution_count": 1,
   "id": "earned-telephone",
   "metadata": {},
   "outputs": [],
   "source": [
    "class Customer:\n",
    "    \n",
    "    def identify(self,name):\n",
    "        print(\"Customer name is \" + name)"
   ]
  },
  {
   "cell_type": "code",
   "execution_count": 2,
   "id": "coupled-proposition",
   "metadata": {},
   "outputs": [],
   "source": [
    "c=Customer()"
   ]
  },
  {
   "cell_type": "code",
   "execution_count": 3,
   "id": "cross-identity",
   "metadata": {},
   "outputs": [
    {
     "name": "stdout",
     "output_type": "stream",
     "text": [
      "Customer name is Kübra\n"
     ]
    }
   ],
   "source": [
    "c.identify(\"Kübra\")"
   ]
  },
  {
   "cell_type": "code",
   "execution_count": 4,
   "id": "unlike-killing",
   "metadata": {},
   "outputs": [],
   "source": [
    "# başka bir yöntem\n",
    "class Customer:\n",
    "    \n",
    "    def set_name(self, new_name):\n",
    "        self.name = new_name\n",
    "        "
   ]
  },
  {
   "cell_type": "code",
   "execution_count": 5,
   "id": "grand-horizon",
   "metadata": {},
   "outputs": [
    {
     "data": {
      "text/plain": [
       "'Kübra'"
      ]
     },
     "execution_count": 5,
     "metadata": {},
     "output_type": "execute_result"
    }
   ],
   "source": [
    "cust=Customer()\n",
    "cust.set_name(\"Kübra\")\n",
    "cust.name"
   ]
  },
  {
   "cell_type": "code",
   "execution_count": 6,
   "id": "moral-discharge",
   "metadata": {},
   "outputs": [],
   "source": [
    "# Create an empty class Employee\n",
    "class Employee:\n",
    "    pass\n",
    "\n",
    "# Create an object emp of class Employee  \n",
    "emp = Employee()"
   ]
  },
  {
   "cell_type": "code",
   "execution_count": 7,
   "id": "beautiful-spectrum",
   "metadata": {},
   "outputs": [],
   "source": [
    "class Employee:\n",
    "  \n",
    "  def set_name(self, new_name):\n",
    "    self.name = new_name\n",
    "  \n",
    "  # Add set_salary() method\n",
    "  def set_salary(self, new_salary):\n",
    "    self.salary=new_salary\n",
    "  \n",
    "  \n",
    "# Create an object emp of class Employee  \n",
    "emp = Employee()\n",
    "\n",
    "# Use set_name to set the name of emp to 'Korel Rossi'\n",
    "emp.set_name('Korel Rossi')\n",
    "\n",
    "# Set the salary of emp to 50000\n",
    "emp.set_salary(50000)\n"
   ]
  },
  {
   "cell_type": "code",
   "execution_count": 8,
   "id": "worth-bishop",
   "metadata": {},
   "outputs": [
    {
     "name": "stdout",
     "output_type": "stream",
     "text": [
      "50000\n",
      "51500\n"
     ]
    }
   ],
   "source": [
    "class Employee:\n",
    "    def set_name(self, new_name):\n",
    "        self.name = new_name\n",
    "\n",
    "    def set_salary(self, new_salary):\n",
    "        self.salary = new_salary \n",
    "  \n",
    "emp = Employee()\n",
    "emp.set_name('Korel Rossi')\n",
    "emp.set_salary(50000)\n",
    "\n",
    "# Print the salary attribute of emp\n",
    "print(emp.salary)\n",
    "\n",
    "# Increase salary of emp by 1500\n",
    "emp.salary = emp.salary + 1500\n",
    "\n",
    "# Print the salary attribute of emp again\n",
    "print(emp.salary)"
   ]
  },
  {
   "cell_type": "code",
   "execution_count": 9,
   "id": "classical-signature",
   "metadata": {},
   "outputs": [
    {
     "name": "stdout",
     "output_type": "stream",
     "text": [
      "4166.666666666667\n"
     ]
    }
   ],
   "source": [
    "class Employee:\n",
    "    def set_name(self, new_name):\n",
    "        self.name = new_name\n",
    "\n",
    "    def set_salary(self, new_salary):\n",
    "        self.salary = new_salary \n",
    "\n",
    "    def give_raise(self, amount):\n",
    "        self.salary = self.salary + amount\n",
    "\n",
    "    # Add monthly_salary method that returns 1/12th of salary attribute\n",
    "    def monthly_salary(self):\n",
    "        \n",
    "        return self.salary /12\n",
    "\n",
    "    \n",
    "emp = Employee()\n",
    "emp.set_name('Korel Rossi')\n",
    "emp.set_salary(50000)\n",
    "\n",
    "# Get monthly salary of emp and assign to mon_sal\n",
    "mon_sal = emp.monthly_salary()\n",
    "\n",
    "# Print mon_sal\n",
    "print(mon_sal)"
   ]
  },
  {
   "cell_type": "code",
   "execution_count": 10,
   "id": "incomplete-forge",
   "metadata": {},
   "outputs": [
    {
     "name": "stdout",
     "output_type": "stream",
     "text": [
      "Invalid salary!\n",
      "Korel Rossi\n",
      "0\n"
     ]
    }
   ],
   "source": [
    "class Employee:\n",
    "    \n",
    "    def __init__(self, name, salary=0):\n",
    "        self.name = name\n",
    "        # Modify code below to check if salary is positive\n",
    "        if salary >= 0:\n",
    "          self.salary = salary\n",
    "        else:\n",
    "          self.salary = 0\n",
    "          print(\"Invalid salary!\")\n",
    "        \n",
    "   \n",
    "   # ...Other methods omitted for brevity ... \n",
    "      \n",
    "emp = Employee(\"Korel Rossi\", -1000)\n",
    "print(emp.name)\n",
    "print(emp.salary)"
   ]
  },
  {
   "cell_type": "code",
   "execution_count": 11,
   "id": "working-aging",
   "metadata": {},
   "outputs": [
    {
     "name": "stdout",
     "output_type": "stream",
     "text": [
      "Invalid salary!\n",
      "Korel Rossi\n",
      "0\n"
     ]
    }
   ],
   "source": [
    "# Import datetime from datetime\n",
    "from datetime import datetime\n",
    "\n",
    "class Employee:\n",
    "    \n",
    "    def __init__(self, name, salary=0):\n",
    "        self.name = name\n",
    "        if salary > 0:\n",
    "          self.salary = salary\n",
    "        else:\n",
    "          self.salary = 0\n",
    "          print(\"Invalid salary!\")\n",
    "          \n",
    "        # Add the hire_date attribute and set it to today's date\n",
    "        self.hire_date = datetime.today()\n",
    "        \n",
    "   # ...Other methods omitted for brevity ...\n",
    "      \n",
    "emp = Employee(\"Korel Rossi\", -1000)\n",
    "print(emp.name)\n",
    "print(emp.salary)"
   ]
  },
  {
   "cell_type": "code",
   "execution_count": 12,
   "id": "russian-retreat",
   "metadata": {},
   "outputs": [],
   "source": [
    "# For use of np.sqrt\n",
    "import numpy as np\n",
    "\n",
    "class Point:\n",
    "    \"\"\" A point on a 2D plane\n",
    "    \n",
    "   Attributes\n",
    "    ----------\n",
    "    x : float, default 0.0. The x coordinate of the point        \n",
    "    y : float, default 0.0. The y coordinate of the point\n",
    "    \"\"\"\n",
    "    def __init__(self, x=0.0, y=0.0):\n",
    "      self.x = x\n",
    "      self.y = y\n",
    "      \n",
    "    def distance_to_origin(self):\n",
    "      \"\"\"Calculate distance from the point to the origin (0,0)\"\"\"\n",
    "      return np.sqrt(self.x ** 2 + self.y ** 2)\n",
    "    \n",
    "    def reflect(self, axis):\n",
    "      \"\"\"Reflect the point with respect to x or y axis.\"\"\"\n",
    "      if axis == \"x\":\n",
    "        self.y = - self.y\n",
    "      elif axis == \"y\":\n",
    "        self.x = - self.x\n",
    "      else:\n",
    "        print(\"The argument axis only accepts values 'x' and 'y'!\")"
   ]
  },
  {
   "cell_type": "markdown",
   "id": "systematic-peter",
   "metadata": {},
   "source": [
    "### Chapter-2"
   ]
  },
  {
   "cell_type": "code",
   "execution_count": 13,
   "id": "premium-archives",
   "metadata": {},
   "outputs": [
    {
     "name": "stdout",
     "output_type": "stream",
     "text": [
      "10\n",
      "10\n"
     ]
    }
   ],
   "source": [
    "# Create a Player class\n",
    "class Player:\n",
    "    MAX_POSITION = 10\n",
    "    def __init__(self, position=0):\n",
    "        self.position = position\n",
    "\n",
    "\n",
    "\n",
    "# Print Player.MAX_POSITION       \n",
    "print(Player.MAX_POSITION)\n",
    "\n",
    "# Create a player p and print its MAX_POSITITON\n",
    "p = Player()\n",
    "print(p.MAX_POSITION)"
   ]
  },
  {
   "cell_type": "code",
   "execution_count": 14,
   "id": "established-admission",
   "metadata": {},
   "outputs": [
    {
     "name": "stdout",
     "output_type": "stream",
     "text": [
      "|----------\n",
      "----|------\n",
      "---------|-\n",
      "----------|\n"
     ]
    }
   ],
   "source": [
    "class Player:\n",
    "    MAX_POSITION = 10\n",
    "    MAX_SPEED = 3\n",
    "    def __init__(self):\n",
    "        self.position = 0\n",
    "\n",
    "    # Add a move() method with steps parameter\n",
    "    def move(self,steps):\n",
    "        self.steps =steps\n",
    "        if self.position + steps <= Player.MAX_POSITION:\n",
    "            self.position = self.position + steps\n",
    "        else:\n",
    "            self.position= Player.MAX_POSITION\n",
    "\n",
    "    \n",
    "\n",
    "       \n",
    "    # This method provides a rudimentary visualization in the console    \n",
    "    def draw(self):\n",
    "        drawing = \"-\" * self.position + \"|\" +\"-\"*(Player.MAX_POSITION - self.position)\n",
    "        print(drawing)\n",
    "\n",
    "p = Player(); p.draw()\n",
    "p.move(4); p.draw()\n",
    "p.move(5); p.draw()\n",
    "p.move(3); p.draw()"
   ]
  },
  {
   "cell_type": "code",
   "execution_count": 15,
   "id": "proper-focus",
   "metadata": {},
   "outputs": [
    {
     "name": "stdout",
     "output_type": "stream",
     "text": [
      "MAX_SPEED of p1 and p2 before assignment:\n",
      "3\n",
      "3\n",
      "MAX_SPEED of p1 and p2 after assignment:\n",
      "7\n",
      "3\n",
      "MAX_SPEED of Player:\n",
      "3\n"
     ]
    }
   ],
   "source": [
    "# Create Players p1 and p2\n",
    "p1 = Player()\n",
    "p2 = Player()\n",
    "\n",
    "print(\"MAX_SPEED of p1 and p2 before assignment:\")\n",
    "# Print p1.MAX_SPEED and p2.MAX_SPEED\n",
    "print(p1.MAX_SPEED)\n",
    "print(p2.MAX_SPEED)\n",
    "\n",
    "# Assign 7 to p1.MAX_SPEED\n",
    "p1.MAX_SPEED = 7\n",
    "\n",
    "print(\"MAX_SPEED of p1 and p2 after assignment:\")\n",
    "# Print p1.MAX_SPEED and p2.MAX_SPEED\n",
    "print(p1.MAX_SPEED)\n",
    "print(p2.MAX_SPEED)\n",
    "\n",
    "print(\"MAX_SPEED of Player:\")\n",
    "# Print Player.MAX_SPEED\n",
    "print(Player.MAX_SPEED)"
   ]
  },
  {
   "cell_type": "code",
   "execution_count": 16,
   "id": "cathedral-october",
   "metadata": {},
   "outputs": [
    {
     "name": "stdout",
     "output_type": "stream",
     "text": [
      "MAX_SPEED of p1 and p2 before assignment:\n",
      "3\n",
      "3\n",
      "MAX_SPEED of p1 and p2 after assignment:\n",
      "7\n",
      "7\n",
      "MAX_SPEED of Player:\n",
      "7\n"
     ]
    }
   ],
   "source": [
    "# Create Players p1 and p2\n",
    "p1, p2 = Player(), Player()\n",
    "\n",
    "print(\"MAX_SPEED of p1 and p2 before assignment:\")\n",
    "# Print p1.MAX_SPEED and p2.MAX_SPEED\n",
    "print(p1.MAX_SPEED)\n",
    "print(p2.MAX_SPEED)\n",
    "\n",
    "# ---MODIFY THIS LINE--- \n",
    "Player.MAX_SPEED = 7\n",
    "\n",
    "print(\"MAX_SPEED of p1 and p2 after assignment:\")\n",
    "# Print p1.MAX_SPEED and p2.MAX_SPEED\n",
    "print(p1.MAX_SPEED)\n",
    "print(p2.MAX_SPEED)\n",
    "\n",
    "print(\"MAX_SPEED of Player:\")\n",
    "# Print Player.MAX_SPEED\n",
    "print(Player.MAX_SPEED)"
   ]
  },
  {
   "cell_type": "code",
   "execution_count": 17,
   "id": "undefined-chile",
   "metadata": {},
   "outputs": [
    {
     "name": "stdout",
     "output_type": "stream",
     "text": [
      "2020\n",
      "4\n",
      "30\n"
     ]
    }
   ],
   "source": [
    "class BetterDate:\n",
    "    # Constructor\n",
    "    def __init__(self, year, month, day):\n",
    "      # Recall that Python allows multiple variable assignments in one line\n",
    "      self.year, self.month, self.day = year, month, day\n",
    "    \n",
    "    # Define a class method from_str\n",
    "    @classmethod\n",
    "    def from_str(cls, datestr):\n",
    "         # Split the string at \"-\" and  convert each part to integer\n",
    "        parts = datestr.split(\"-\")\n",
    "        year, month, day = int(parts[0]), int(parts[1]), int(parts[2])\n",
    "        # Return the class instance\n",
    "        return cls(year, month, day)\n",
    "        \n",
    "bd = BetterDate.from_str('2020-04-30')   \n",
    "print(bd.year)\n",
    "print(bd.month)\n",
    "print(bd.day)"
   ]
  },
  {
   "cell_type": "code",
   "execution_count": 18,
   "id": "signed-billion",
   "metadata": {},
   "outputs": [
    {
     "name": "stdout",
     "output_type": "stream",
     "text": [
      "2021\n",
      "8\n",
      "10\n"
     ]
    }
   ],
   "source": [
    "# import datetime from datetime\n",
    "from datetime import datetime\n",
    "\n",
    "class BetterDate:\n",
    "    def __init__(self, year, month, day):\n",
    "      self.year, self.month, self.day = year, month, day\n",
    "      \n",
    "    @classmethod\n",
    "    def from_str(cls, datestr):\n",
    "        year, month, day = map(int, datestr.split(\"-\"))\n",
    "        return cls(year, month, day)\n",
    "      \n",
    "    # Define a class method from_datetime accepting a datetime object\n",
    "    @classmethod\n",
    "    def from_datetime(cls, dateobj):\n",
    "      year, month, day = dateobj.year, dateobj.month, dateobj.day\n",
    "      return cls(year, month, day) \n",
    "\n",
    "\n",
    "# You should be able to run the code below with no errors: \n",
    "today = datetime.today()     \n",
    "bd = BetterDate.from_datetime(today)   \n",
    "print(bd.year)\n",
    "print(bd.month)\n",
    "print(bd.day)"
   ]
  },
  {
   "cell_type": "markdown",
   "id": "creative-default",
   "metadata": {},
   "source": [
    "#### inheritance"
   ]
  },
  {
   "cell_type": "code",
   "execution_count": 19,
   "id": "dramatic-gardening",
   "metadata": {},
   "outputs": [
    {
     "name": "stdout",
     "output_type": "stream",
     "text": [
      "Debbie Lashko\n"
     ]
    }
   ],
   "source": [
    "class Employee:\n",
    "  MIN_SALARY = 30000    \n",
    "\n",
    "  def __init__(self, name, salary=MIN_SALARY):\n",
    "      self.name = name\n",
    "      if salary >= Employee.MIN_SALARY:\n",
    "        self.salary = salary\n",
    "      else:\n",
    "        self.salary = Employee.MIN_SALARY\n",
    "        \n",
    "  def give_raise(self, amount):\n",
    "      self.salary += amount      \n",
    "        \n",
    "# Define a new class Manager inheriting from Employee\n",
    "class Manager(Employee):\n",
    "  pass\n",
    "\n",
    "# Define a Manager object\n",
    "mng = Manager('Debbie Lashko', 86500)\n",
    "\n",
    "# Print mng's name\n",
    "print(mng.name)"
   ]
  },
  {
   "cell_type": "code",
   "execution_count": 20,
   "id": "interim-gabriel",
   "metadata": {},
   "outputs": [
    {
     "name": "stdout",
     "output_type": "stream",
     "text": [
      "Debbie Lashko\n",
      "Manager  Debbie Lashko\n"
     ]
    }
   ],
   "source": [
    "class Employee:\n",
    "  MIN_SALARY = 30000    \n",
    "\n",
    "  def __init__(self, name, salary=MIN_SALARY):\n",
    "      self.name = name\n",
    "      if salary >= Employee.MIN_SALARY:\n",
    "        self.salary = salary\n",
    "      else:\n",
    "        self.salary = Employee.MIN_SALARY\n",
    "        \n",
    "  def give_raise(self, amount):\n",
    "    self.salary += amount\n",
    "\n",
    "        \n",
    "# MODIFY Manager class and add a display method\n",
    "class Manager(Employee):\n",
    "  def display(self):\n",
    "    print(\"Manager \", self.name)\n",
    "\n",
    "\n",
    "mng = Manager(\"Debbie Lashko\", 86500)\n",
    "print(mng.name)\n",
    "\n",
    "# Call mng.display()\n",
    "mng.display()"
   ]
  },
  {
   "cell_type": "code",
   "execution_count": 21,
   "id": "identical-history",
   "metadata": {},
   "outputs": [],
   "source": [
    "class Employee:\n",
    "    def __init__(self, name, salary=30000):\n",
    "        self.name = name\n",
    "        self.salary = salary\n",
    "\n",
    "    def give_raise(self, amount):\n",
    "        self.salary += amount\n",
    "\n",
    "        \n",
    "class Manager(Employee):\n",
    "  # Add a constructor \n",
    "    def __init__(self, name, salary=50000, project=None):\n",
    "\n",
    "        # Call the parent's constructor   \n",
    "        Employee.__init__(self, name, salary)\n",
    "\n",
    "        # Assign project attribute\n",
    "        self.project = project  \n",
    "\n",
    "  \n",
    "    def display(self):\n",
    "        print(\"Manager \", self.name)\n",
    " "
   ]
  },
  {
   "cell_type": "code",
   "execution_count": 22,
   "id": "heard-letters",
   "metadata": {},
   "outputs": [
    {
     "name": "stdout",
     "output_type": "stream",
     "text": [
      "79550.0\n",
      "81610.0\n"
     ]
    }
   ],
   "source": [
    "class Employee:\n",
    "    def __init__(self, name, salary=30000):\n",
    "        self.name = name\n",
    "        self.salary = salary\n",
    "\n",
    "    def give_raise(self, amount):\n",
    "        self.salary += amount\n",
    "\n",
    "        \n",
    "class Manager(Employee):\n",
    "    def display(self):\n",
    "        print(\"Manager \", self.name)\n",
    "\n",
    "    def __init__(self, name, salary=50000, project=None):\n",
    "        Employee.__init__(self, name, salary)\n",
    "        self.project = project\n",
    "\n",
    "    # Add a give_raise method\n",
    "    def give_raise(self, amount, bonus=1.05):\n",
    "        new_amount = amount * bonus\n",
    "        Employee.give_raise(self, new_amount)\n",
    "    \n",
    "    \n",
    "mngr = Manager(\"Ashta Dunbar\", 78500)\n",
    "mngr.give_raise(1000)\n",
    "print(mngr.salary)\n",
    "mngr.give_raise(2000, bonus=1.03)\n",
    "print(mngr.salary)"
   ]
  },
  {
   "cell_type": "code",
   "execution_count": 23,
   "id": "comprehensive-salem",
   "metadata": {},
   "outputs": [
    {
     "name": "stdout",
     "output_type": "stream",
     "text": [
      "p.MAX_SPEED =  7\n",
      "r.MAX_SPEED =  5\n",
      "p.MAX_POSITION =  10\n",
      "r.MAX_POSITION =  10\n"
     ]
    }
   ],
   "source": [
    "# Create a Racer class and set MAX_SPEED to 5\n",
    "class Racer(Player):\n",
    "\n",
    "    MAX_SPEED = 5\n",
    " \n",
    "# Create a Player and a Racer objects\n",
    "p = Player()\n",
    "r = Racer()\n",
    "\n",
    "print(\"p.MAX_SPEED = \", p.MAX_SPEED)\n",
    "print(\"r.MAX_SPEED = \", r.MAX_SPEED)\n",
    "\n",
    "print(\"p.MAX_POSITION = \", p.MAX_POSITION)\n",
    "print(\"r.MAX_POSITION = \", r.MAX_POSITION)"
   ]
  },
  {
   "cell_type": "code",
   "execution_count": 24,
   "id": "greatest-orientation",
   "metadata": {},
   "outputs": [
    {
     "name": "stdout",
     "output_type": "stream",
     "text": [
      "[[1 3]\n",
      " [2 4]]\n",
      "2021-08-10 17:23:57.232258\n"
     ]
    }
   ],
   "source": [
    "# Import pandas as pd\n",
    "import pandas as pd\n",
    "\n",
    "# Define LoggedDF inherited from pd.DataFrame and add the constructor\n",
    "class LoggedDF(pd.DataFrame):\n",
    "\n",
    "    def __init__(self, *args, **kwargs):\n",
    "\n",
    "        pd.DataFrame.__init__(self, *args, **kwargs)\n",
    "\n",
    "        self.created_at = datetime.today()\n",
    "    \n",
    "    \n",
    "ldf = LoggedDF({\"col1\": [1,2], \"col2\": [3,4]})\n",
    "print(ldf.values)\n",
    "print(ldf.created_at)"
   ]
  },
  {
   "cell_type": "code",
   "execution_count": null,
   "id": "dramatic-spending",
   "metadata": {},
   "outputs": [],
   "source": [
    "\n",
    "# Define LoggedDF inherited from pd.DataFrame and add the constructor\n",
    "class LoggedDF(pd.DataFrame):\n",
    "  \n",
    "  def __init__(self, *args, **kwargs):\n",
    "    pd.DataFrame.__init__(self, *args, **kwargs)\n",
    "    self.created_at = datetime.today()\n",
    "    \n",
    "  def to_csv(self, *args, **kwargs):\n",
    "    # Copy self to a temporary DataFrame\n",
    "    temp = self.copy()\n",
    "    \n",
    "    # Create a new column filled with self.created_at\n",
    "    temp[\"created_at\"] = self.created_at\n",
    "    \n",
    "    # Call pd.DataFrame.to_csv on temp, passing in *args and **kwargs\n",
    "    pd.DataFrame.to_csv(temp, *args, **kwargs)"
   ]
  },
  {
   "cell_type": "markdown",
   "id": "bright-davis",
   "metadata": {},
   "source": [
    "Incredible work! Using *args and **kwargs allows you to not worry about keeping the signature of your customized method compatible. Notice how in the very last line, you called the parent method and passed an object to it that isn't self. When you call parent methods in the class, they should accept some object as the first argument, and that object is usually self, but it doesn't have to be!\n"
   ]
  },
  {
   "cell_type": "markdown",
   "id": "addressed-oliver",
   "metadata": {},
   "source": [
    "## Ch 3"
   ]
  },
  {
   "cell_type": "markdown",
   "id": "declared-orange",
   "metadata": {},
   "source": [
    "Aynı özelliklere sahip iki farklı obje tamınlarsak bu ikisi birbirine eşit olmaz, çünkü her biri için ayrı yer tutuluyormuş.\n",
    "\n",
    "Bu durumu aşmak için __eq__() methodu kullanmamız gerekiyormuş."
   ]
  },
  {
   "cell_type": "code",
   "execution_count": 25,
   "id": "controversial-dancing",
   "metadata": {},
   "outputs": [
    {
     "name": "stdout",
     "output_type": "stream",
     "text": [
      "True\n",
      "False\n"
     ]
    }
   ],
   "source": [
    "class BankAccount:\n",
    "   # MODIFY to initialize a number attribute\n",
    "    def __init__(self, number, balance=0):\n",
    "        self.balance = balance\n",
    "        self.number = number\n",
    "      \n",
    "    def withdraw(self, amount):\n",
    "        self.balance -= amount \n",
    "    \n",
    "    # Define __eq__ that returns True if the number attributes are equal \n",
    "    def __eq__(self, other):\n",
    "        return self.number == other.number   \n",
    "\n",
    "# Create accounts and compare them       \n",
    "acct1 = BankAccount(123, 1000)\n",
    "acct2 = BankAccount(123, 1000)\n",
    "acct3 = BankAccount(456, 1000)\n",
    "print(acct1 == acct2)\n",
    "print(acct1 == acct3)\n",
    "    "
   ]
  },
  {
   "cell_type": "code",
   "execution_count": 26,
   "id": "random-trinity",
   "metadata": {},
   "outputs": [],
   "source": [
    "class Phone:\n",
    "  def __init__(self, number):\n",
    "     self.number = number\n",
    "\n",
    "  def __eq__(self, other):\n",
    "    return self.number == \\\n",
    "          other.number\n",
    "\n",
    "pn = Phone(873555333)"
   ]
  },
  {
   "cell_type": "code",
   "execution_count": 27,
   "id": "unnecessary-pharmacy",
   "metadata": {},
   "outputs": [],
   "source": [
    "class BankAccount:\n",
    "  def __init__(self, number):\n",
    "     self.number = number\n",
    "\n",
    "  def __eq__(self, other):\n",
    "    return self.number == \\\n",
    "           other.number\n",
    "\n",
    "acct = BankAccount(873555333)"
   ]
  },
  {
   "cell_type": "code",
   "execution_count": 29,
   "id": "rental-locator",
   "metadata": {},
   "outputs": [
    {
     "data": {
      "text/plain": [
       "True"
      ]
     },
     "execution_count": 29,
     "metadata": {},
     "output_type": "execute_result"
    }
   ],
   "source": [
    "pn == acct # Bu True olmaması lazım bunlar aynı şey değil. Bunu düzeltmek için:"
   ]
  },
  {
   "cell_type": "code",
   "execution_count": 31,
   "id": "spanish-career",
   "metadata": {},
   "outputs": [
    {
     "name": "stdout",
     "output_type": "stream",
     "text": [
      "False\n"
     ]
    }
   ],
   "source": [
    "class BankAccount:\n",
    "    def __init__(self, number, balance=0):\n",
    "        self.number, self.balance = number, balance\n",
    "      \n",
    "    def withdraw(self, amount):\n",
    "        self.balance -= amount \n",
    "\n",
    "    # MODIFY to add a check for the type()\n",
    "    def __eq__(self, other):\n",
    "        return (self.number == other.number) and (type(self) == type(other))   # typelarını karşılaştırmak gerekiyormuş \n",
    "\n",
    "acct = BankAccount(873555333)      \n",
    "pn = Phone(873555333)\n",
    "print(acct == pn)      # ama bunu pn == acct yaparsak yine True döndürüyor , yani tam çözüm olmadı"
   ]
  },
  {
   "cell_type": "code",
   "execution_count": 32,
   "id": "assisted-legislature",
   "metadata": {},
   "outputs": [
    {
     "data": {
      "text/plain": [
       "True"
      ]
     },
     "execution_count": 32,
     "metadata": {},
     "output_type": "execute_result"
    }
   ],
   "source": [
    "pn == acct "
   ]
  },
  {
   "cell_type": "code",
   "execution_count": 33,
   "id": "respiratory-oakland",
   "metadata": {},
   "outputs": [],
   "source": [
    "class Parent:\n",
    "    def __eq__(self, other):\n",
    "        print(\"Parent's __eq__() called\")\n",
    "        return True\n",
    "\n",
    "class Child(Parent):\n",
    "    def __eq__(self, other):\n",
    "        print(\"Child's __eq__() called\")\n",
    "        return True"
   ]
  },
  {
   "cell_type": "code",
   "execution_count": 34,
   "id": "varied-enterprise",
   "metadata": {},
   "outputs": [
    {
     "name": "stdout",
     "output_type": "stream",
     "text": [
      "Child's __eq__() called\n"
     ]
    },
    {
     "data": {
      "text/plain": [
       "True"
      ]
     },
     "execution_count": 34,
     "metadata": {},
     "output_type": "execute_result"
    }
   ],
   "source": [
    "p = Parent()\n",
    "c = Child()\n",
    "\n",
    "p == c "
   ]
  },
  {
   "cell_type": "markdown",
   "id": "stable-taylor",
   "metadata": {},
   "source": [
    " Python always calls the child's __eq__() method when comparing a child object to a parent object."
   ]
  },
  {
   "cell_type": "code",
   "execution_count": 35,
   "id": "regional-fairy",
   "metadata": {},
   "outputs": [
    {
     "name": "stdout",
     "output_type": "stream",
     "text": [
      "my_num is 5, and my_str is \"Hello\".\n"
     ]
    }
   ],
   "source": [
    "my_num = 5\n",
    "my_str = \"Hello\"\n",
    "\n",
    "f = \"my_num is {}, and my_str is \\\"{}\\\".\".format(my_num, my_str)\n",
    "print(f)"
   ]
  },
  {
   "cell_type": "markdown",
   "id": "perceived-currency",
   "metadata": {},
   "source": [
    "To recap: to format a string with variables,\n",
    "you can either use keyword arguments in \n",
    ".format ('Insert {n} here'.format(n=num)), \n",
    "refer to them by position index explicitly\n",
    "(like 'Insert {0} here'.format(num)) or\n",
    "implicitly (like 'Insert {} here'.format(num)). \n",
    "You can use double quotation marks inside single quotation marks and the way around,\n",
    "but to nest the same set of quotation marks, you need to escape them with a slash like \\\"."
   ]
  },
  {
   "cell_type": "code",
   "execution_count": 36,
   "id": "acute-sudan",
   "metadata": {},
   "outputs": [
    {
     "name": "stdout",
     "output_type": "stream",
     "text": [
      "\n",
      "        Employee name: Amar Howard\n",
      "        Employee salary: 30000\n",
      "        \n",
      "\n",
      "        Employee name: Carolyn Ramirez\n",
      "        Employee salary: 35000\n",
      "        \n"
     ]
    }
   ],
   "source": [
    "class Employee:                                   # burada str metodunu yazdık ve çıktılarına baktık\n",
    "    def __init__(self, name, salary=30000):\n",
    "        self.name, self.salary = name, salary\n",
    "            \n",
    "    # Add the __str__() method\n",
    "    def __str__(self):\n",
    "        emp = \"\"\"\n",
    "        Employee name: {name}\n",
    "        Employee salary: {salary}\n",
    "        \"\"\".format(name = self.name, salary = self.salary)\n",
    "\n",
    "        return emp\n",
    "\n",
    "emp1 = Employee(\"Amar Howard\", 30000)\n",
    "print(emp1)\n",
    "emp2 = Employee(\"Carolyn Ramirez\", 35000)\n",
    "print(emp2)"
   ]
  },
  {
   "cell_type": "code",
   "execution_count": 37,
   "id": "charming-narrative",
   "metadata": {},
   "outputs": [
    {
     "name": "stdout",
     "output_type": "stream",
     "text": [
      "Employee('Amar Howard', 30000)\n",
      "Employee('Carolyn Ramirez', 35000)\n"
     ]
    }
   ],
   "source": [
    "class Employee:                                    # burada da repr methodunu yazdık ve çıktılarına baktık\n",
    "    def __init__(self, name, salary=30000):\n",
    "        self.name, self.salary = name, salary\n",
    "      \n",
    "\n",
    "    def __str__(self):\n",
    "        s = \"Employee name: {name}\\nEmployee salary: {salary}\".format(name=self.name, salary=self.salary)      \n",
    "        return s\n",
    "      \n",
    "    # Add the __repr__method  \n",
    "    def __repr__(self):\n",
    "\n",
    "        return \"Employee('{name}', {salary})\".format(name=self.name, salary=self.salary)   \n",
    "\n",
    "emp1 = Employee(\"Amar Howard\", 30000)\n",
    "print(repr(emp1))\n",
    "emp2 = Employee(\"Carolyn Ramirez\", 35000)\n",
    "print(repr(emp2))"
   ]
  },
  {
   "cell_type": "code",
   "execution_count": 38,
   "id": "sudden-nirvana",
   "metadata": {},
   "outputs": [
    {
     "name": "stdout",
     "output_type": "stream",
     "text": [
      "0.16666666666666666\n",
      "Cannot divide by zero!\n",
      "None\n",
      "Index out of range!\n",
      "None\n"
     ]
    }
   ],
   "source": [
    "# MODIFY the function to catch exceptions\n",
    "def invert_at_index(x, ind):\n",
    "\n",
    "    try:\n",
    "        return 1/x[ind]\n",
    "    except ZeroDivisionError:\n",
    "        print(\"Cannot divide by zero!\")\n",
    "    except IndexError:\n",
    "        print(\"Index out of range!\")\n",
    " \n",
    "a = [5,6,0,7]\n",
    "\n",
    "# Works okay\n",
    "print(invert_at_index(a, 1))\n",
    "\n",
    "# Potential ZeroDivisionError\n",
    "print(invert_at_index(a, 2))\n",
    "\n",
    "# Potential IndexError\n",
    "print(invert_at_index(a, 5))"
   ]
  },
  {
   "cell_type": "code",
   "execution_count": 39,
   "id": "magnetic-negotiation",
   "metadata": {},
   "outputs": [],
   "source": [
    "class SalaryError(ValueError): pass\n",
    "class BonusError(SalaryError): pass\n",
    "\n",
    "class Employee:\n",
    "  MIN_SALARY = 30000\n",
    "  MAX_BONUS = 5000\n",
    "\n",
    "  def __init__(self, name, salary = 30000):\n",
    "    self.name = name    \n",
    "    if salary < Employee.MIN_SALARY:\n",
    "      raise SalaryError(\"Salary is too low!\")      \n",
    "    self.salary = salary\n",
    "    \n",
    "  # Rewrite using exceptions  \n",
    "  def give_bonus(self, amount):\n",
    "    if amount > Employee.MAX_BONUS:\n",
    "      raise BonusError(\"The bonus amount is too high!\")\n",
    "\n",
    "        \n",
    "    elif self.salary + amount <  Employee.MIN_SALARY:\n",
    "      raise SalaryError(\"The salary after bonus is too low!\")\n",
    "\n",
    "      \n",
    "    else:  \n",
    "      self.salary += amount"
   ]
  },
  {
   "cell_type": "markdown",
   "id": "efficient-joshua",
   "metadata": {},
   "source": [
    "Exactly! It's better to list the except blocks in the increasing order of specificity, i.e. children before parents, otherwise the child exception will be called in the parent except block."
   ]
  },
  {
   "cell_type": "code",
   "execution_count": 40,
   "id": "executive-hampshire",
   "metadata": {},
   "outputs": [
    {
     "name": "stdout",
     "output_type": "stream",
     "text": [
      "SalaryError caught\n"
     ]
    }
   ],
   "source": [
    "\n",
    "emp = Employee(\"Katze Rik\",\\\n",
    "                    50000)\n",
    "try:\n",
    "  emp.give_bonus(7000)\n",
    "except SalaryError:\n",
    "  print(\"SalaryError caught\")\n",
    "except BonusError:\n",
    "  print(\"BonusError caught\")\n",
    "      "
   ]
  },
  {
   "cell_type": "code",
   "execution_count": 41,
   "id": "satisfied-sampling",
   "metadata": {},
   "outputs": [
    {
     "name": "stdout",
     "output_type": "stream",
     "text": [
      "BonusError caught\n"
     ]
    }
   ],
   "source": [
    "emp = Employee(\"Katze Rik\",\\\n",
    "                    50000)\n",
    "try:\n",
    "  emp.give_bonus(7000)\n",
    "except BonusError:\n",
    "  print(\"BonusError caught\")\n",
    "except SalaryError:\n",
    "  print(\"SalaryError caught\")\n",
    "      "
   ]
  },
  {
   "cell_type": "code",
   "execution_count": 42,
   "id": "consolidated-secret",
   "metadata": {},
   "outputs": [
    {
     "name": "stdout",
     "output_type": "stream",
     "text": [
      "Parent talking!\n",
      "Child talking!\n",
      "TalkativeChild talking!\n",
      "Parent talking!\n"
     ]
    }
   ],
   "source": [
    "class Parent:\n",
    "    def talk(self):\n",
    "        print(\"Parent talking!\")     \n",
    "\n",
    "class Child(Parent):\n",
    "    def talk(self):\n",
    "        print(\"Child talking!\")          \n",
    "\n",
    "class TalkativeChild(Parent):\n",
    "    def talk(self):\n",
    "        print(\"TalkativeChild talking!\")\n",
    "        Parent.talk(self)\n",
    "\n",
    "\n",
    "p, c, tc = Parent(), Child(), TalkativeChild()\n",
    "\n",
    "for obj in (p, c, tc):\n",
    "    obj.talk()"
   ]
  },
  {
   "cell_type": "markdown",
   "id": "fossil-progressive",
   "metadata": {},
   "source": [
    "### Liskov Substitution Principle (LSP)  -  Circle Ellipse or Rectangle Square Problem"
   ]
  },
  {
   "cell_type": "markdown",
   "id": "excessive-nation",
   "metadata": {},
   "source": [
    "Each of the setter methods of Square change both h and w attributes, \n",
    "while setter methods of Rectangle change only one attribute at a time,\n",
    "so the Square objects cannot be substituted for Rectangle into programs that rely on one attribute staying constant."
   ]
  },
  {
   "cell_type": "code",
   "execution_count": 43,
   "id": "future-european",
   "metadata": {},
   "outputs": [],
   "source": [
    "class Rectangle:\n",
    "    def __init__(self, w,h):\n",
    "      self.w, self.h = w,h\n",
    "      \n",
    "# Define set_h to set h       \n",
    "    def set_h(self, h):\n",
    "      self.h = h\n",
    "\n",
    "# Define set_w to set w\n",
    "    def set_w(self, w):\n",
    "      self.w = w   \n",
    "      \n",
    "class Square(Rectangle):\n",
    "    def __init__(self, w):\n",
    "      self.w, self.h = w, w \n",
    "      \n",
    "# Define set_h to set w and h \n",
    "    def set_h(self, h):\n",
    "      self.h = h\n",
    "      self.w = h\n",
    "      \n",
    "# Define set_w to set w and h \n",
    "    def set_w(self, w):\n",
    "      self.w = w   \n",
    "      self.h = w  "
   ]
  },
  {
   "cell_type": "markdown",
   "id": "established-extent",
   "metadata": {},
   "source": [
    "Öndeki tek alt çizgi, uygulamanın dahili ayrıntıları için bir kuraldır. Alt sınıflardaki aviod ad çakışmalarına miras alınmaması gereken nitelikler için baştaki çift alt çizgi kullanılır. Son olarak, baştaki ve sondaki çift alt çizgi, yerleşik yöntemler için ayrılmıştır."
   ]
  },
  {
   "cell_type": "code",
   "execution_count": 44,
   "id": "young-accreditation",
   "metadata": {},
   "outputs": [
    {
     "name": "stdout",
     "output_type": "stream",
     "text": [
      "True\n",
      "False\n"
     ]
    }
   ],
   "source": [
    "# Add class attributes for max number of days and months\n",
    "class BetterDate:\n",
    "    _MAX_DAYS = 30\n",
    "    _MAX_MONTH = 12\n",
    "    \n",
    "    def __init__(self, year, month, day):\n",
    "        self.year, self.month, self.day = year, month, day\n",
    "        \n",
    "    @classmethod\n",
    "    def from_str(cls, datestr):\n",
    "        year, month, day = map(int, datestr.split(\"-\"))\n",
    "        return cls(year, month, day)\n",
    "    \n",
    "    # Add _is_valid() checking day and month values\n",
    "    def _is_valid(self):\n",
    "\n",
    "        return self.day <= BetterDate._MAX_DAYS and self.month <= BetterDate._MAX_MONTH\n",
    "\n",
    "\n",
    "    \n",
    "bd1 = BetterDate(2020, 4, 30)\n",
    "print(bd1._is_valid())\n",
    "\n",
    "bd2 = BetterDate(2020, 6, 45)\n",
    "print(bd2._is_valid())"
   ]
  },
  {
   "cell_type": "code",
   "execution_count": 45,
   "id": "understanding-competition",
   "metadata": {},
   "outputs": [
    {
     "data": {
      "text/plain": [
       "<__main__.Customer at 0x1f258682a90>"
      ]
     },
     "execution_count": 45,
     "metadata": {},
     "output_type": "execute_result"
    }
   ],
   "source": [
    "# Create a Customer class\n",
    "class Customer:\n",
    "\n",
    "    def __init__(self, name, new_bal):\n",
    "        self.name= name\n",
    "\n",
    "        if new_bal < 0:\n",
    "            raise ValueError(\"Balance is negative!\")\n",
    "        else:\n",
    "            self._balance = new_bal\n",
    "\n",
    "Customer('test', 100)"
   ]
  },
  {
   "cell_type": "code",
   "execution_count": 46,
   "id": "distinguished-beast",
   "metadata": {},
   "outputs": [
    {
     "name": "stdout",
     "output_type": "stream",
     "text": [
      "Setter method called\n",
      "3000\n"
     ]
    }
   ],
   "source": [
    "class Customer:\n",
    "    def __init__(self, name, new_bal):\n",
    "        self.name = name\n",
    "        if new_bal < 0:\n",
    "           raise ValueError(\"Invalid balance!\")\n",
    "        self._balance = new_bal  \n",
    "\n",
    "    # Add a decorated balance() method returning _balance        \n",
    "    @property\n",
    "    def balance(self):\n",
    "        return self._balance\n",
    "\n",
    "    # Add a setter balance() method\n",
    "    @balance.setter\n",
    "    def balance(self, new_bal):\n",
    "        # Validate the parameter value\n",
    "        if new_bal < 0:\n",
    "           raise ValueError(\"Invalid balance!\")\n",
    "        self._balance = new_bal\n",
    "        print(\"Setter method called\")\n",
    "\n",
    "# Create a Customer        \n",
    "cust = Customer('Belinda Lutz', 2000)\n",
    "\n",
    "# Assign 3000 to the balance property\n",
    "cust.balance= 3000\n",
    "\n",
    "# Print the balance property\n",
    "print(cust.balance)"
   ]
  },
  {
   "cell_type": "code",
   "execution_count": 47,
   "id": "southeast-growth",
   "metadata": {},
   "outputs": [
    {
     "name": "stdout",
     "output_type": "stream",
     "text": [
      "2035-07-13\n"
     ]
    }
   ],
   "source": [
    "import pandas as pd\n",
    "from datetime import datetime\n",
    "\n",
    "# LoggedDF class definition from Chapter 2\n",
    "class LoggedDF(pd.DataFrame):\n",
    "    def __init__(self, *args, **kwargs):\n",
    "        pd.DataFrame.__init__(self, *args, **kwargs)\n",
    "        self.created_at = datetime.today()\n",
    "\n",
    "    def to_csv(self, *args, **kwargs):\n",
    "        temp = self.copy()\n",
    "        temp[\"created_at\"] = self.created_at\n",
    "        pd.DataFrame.to_csv(temp, *args, **kwargs)   \n",
    "\n",
    "# Instantiate a LoggedDF called ldf\n",
    "ldf = LoggedDF({\"col1\": [1,2], \"col2\":[3,4]}) \n",
    "\n",
    "# Assign a new value to ldf's created_at attribute and print\n",
    "ldf.created_at = '2035-07-13'\n",
    "print(ldf.created_at)"
   ]
  },
  {
   "cell_type": "code",
   "execution_count": 48,
   "id": "variable-robertson",
   "metadata": {},
   "outputs": [],
   "source": [
    "# MODIFY the class to use _created_at instead of created_at\n",
    "class LoggedDF(pd.DataFrame):\n",
    "    def __init__(self, *args, **kwargs):\n",
    "        pd.DataFrame.__init__(self, *args, **kwargs)\n",
    "        self._created_at = datetime.today()\n",
    "    \n",
    "    def to_csv(self, *args, **kwargs):\n",
    "        temp = self.copy()\n",
    "        temp[\"created_at\"] = self._created_at\n",
    "        pd.DataFrame.to_csv(temp, *args, **kwargs)   \n",
    "    \n",
    "    # Add a read-only property: _created_at\n",
    "    @property  \n",
    "    def created_at(self):\n",
    "        return self._created_at\n",
    "\n",
    "# Instantiate a LoggedDF called ldf\n",
    "ldf = LoggedDF({\"col1\": [1,2], \"col2\":[3,4]}) "
   ]
  },
  {
   "cell_type": "code",
   "execution_count": null,
   "id": "comparative-battlefield",
   "metadata": {},
   "outputs": [],
   "source": []
  },
  {
   "cell_type": "markdown",
   "id": "flexible-plain",
   "metadata": {},
   "source": [
    "#### Fun Project ***rock_paper_scissor***"
   ]
  },
  {
   "cell_type": "markdown",
   "id": "primary-judgment",
   "metadata": {},
   "source": [
    "Create a Player class"
   ]
  },
  {
   "cell_type": "code",
   "execution_count": null,
   "id": "applied-encounter",
   "metadata": {},
   "outputs": [],
   "source": [
    "class Participant:\n",
    "    def __init__(self, name):\n",
    "        self.name = name\n",
    "        self.points = 0\n",
    "        self.choice = \"\"\n",
    "    def choose(self):\n",
    "        self.choice = input(\"{name}, select rock, paper, scissor, lizard or spock: \".format(name= self.name))\n",
    "        print(\"{name} selects {choice}\".format(name=self.name, choice = self.choice))\n",
    "    def toNumericalChoice(self):\n",
    "        switcher = {\n",
    "          \"rock\": 0,\n",
    "          \"paper\": 1,\n",
    "          \"scissor\": 2,\n",
    "          \"lizard\": 3,\n",
    "          \"spock\": 4 \n",
    "        }\n",
    "        return switcher[self.choice]\n",
    "    def incrementPoint(self):\n",
    "        self.points += 1"
   ]
  },
  {
   "cell_type": "markdown",
   "id": "prescribed-career",
   "metadata": {},
   "source": [
    "\n",
    "Create a GameRound class for each round of the game"
   ]
  },
  {
   "cell_type": "code",
   "execution_count": null,
   "id": "italic-designer",
   "metadata": {},
   "outputs": [],
   "source": [
    "class GameRound:\n",
    "    def __init__(self, p1, p2):\n",
    "        self.rules = [\n",
    "          [0, -1, 1, 1, -1],\n",
    "          [1, 0, -1, -1, 1],\n",
    "          [-1, 1, 0, 1, -1],\n",
    "          [-1, 1, -1, 0, 1],\n",
    "          [1, -1, 1, -1, 0]\n",
    "        ] \n",
    "\n",
    "        p1.choose()\n",
    "        p2.choose()\n",
    "        result = self.compareChoices(p1,p2)\n",
    "        print(\"Round resulted in a {result}\".format(result = self.getResultAsString(result) ))\n",
    "        if result > 0:\n",
    "            p1.incrementPoint()\n",
    "        elif result < 0:\n",
    "            p2.incrementPoint()\n",
    "        else:\n",
    "            print(\"No points for anybody\")\n",
    "    \n",
    "    def compareChoices(self, p1, p2):\n",
    "        return self.rules[p1.toNumericalChoice()][p2.toNumericalChoice()]\n",
    "    def awardPoints(self):\n",
    "        print(\"implement\")\n",
    "    def getResultAsString(self, result):\n",
    "        res = {\n",
    "          0: \"draw\",\n",
    "          1: \"win\",\n",
    "          -1: \"loss\"\n",
    "        }\n",
    "        return res[result]"
   ]
  },
  {
   "cell_type": "markdown",
   "id": "mathematical-shopper",
   "metadata": {},
   "source": [
    "Create a class for the actual game to run"
   ]
  },
  {
   "cell_type": "code",
   "execution_count": null,
   "id": "yellow-ethernet",
   "metadata": {},
   "outputs": [],
   "source": [
    "class Game:\n",
    "    def __init__(self):\n",
    "        self.endGame = False\n",
    "        self.participant = Participant(\"Spock\")\n",
    "        self.secondParticipant = Participant(\"Kirk\")\n",
    "    def start(self):\n",
    "        while not self.endGame:\n",
    "            GameRound(self.participant, self.secondParticipant)\n",
    "            self.checkEndCondition()\n",
    "      \n",
    "    def checkEndCondition(self):\n",
    "        answer = input(\"Continue game y/n: \")\n",
    "        if answer == 'y':\n",
    "            GameRound(self.participant, self.secondParticipant)\n",
    "            self.checkEndCondition()\n",
    "        else:\n",
    "            print(\"Game ended, {p1name} has {p1points}, and {p2name} has {p2points}\".format(p1name = self.participant.name, p1points= self.participant.points, p2name=self.secondParticipant.name, p2points=self.secondParticipant.points))\n",
    "            self.determineWinner()\n",
    "            self.endGame = True\n",
    "\n",
    "    def determineWinner(self):\n",
    "        resultString = \"It's a Draw\"\n",
    "        if self.participant.points > self.secondParticipant.points:\n",
    "            resultString = \"Winner is {name}\".format(name=self.participant.name)\n",
    "        elif self.participant.points < self.secondParticipant.points:\n",
    "            resultString = \"Winner is {name}\".format(name=self.secondParticipant.name)\n",
    "    \n",
    "        print(resultString)"
   ]
  },
  {
   "cell_type": "markdown",
   "id": "patient-wisdom",
   "metadata": {},
   "source": [
    "\n",
    "Run the game"
   ]
  },
  {
   "cell_type": "code",
   "execution_count": null,
   "id": "wicked-portfolio",
   "metadata": {},
   "outputs": [],
   "source": [
    "game = Game()\n",
    "game.start()"
   ]
  },
  {
   "cell_type": "code",
   "execution_count": 1,
   "id": "bound-sample",
   "metadata": {},
   "outputs": [
    {
     "name": "stdout",
     "output_type": "stream",
     "text": [
      "git deneme için ekledim\n"
     ]
    }
   ],
   "source": [
    "print('git deneme için ekledim')"
   ]
  },
  {
   "cell_type": "code",
   "execution_count": null,
   "id": "opening-pizza",
   "metadata": {},
   "outputs": [],
   "source": []
  }
 ],
 "metadata": {
  "kernelspec": {
   "display_name": "Python 3",
   "language": "python",
   "name": "python3"
  },
  "language_info": {
   "codemirror_mode": {
    "name": "ipython",
    "version": 3
   },
   "file_extension": ".py",
   "mimetype": "text/x-python",
   "name": "python",
   "nbconvert_exporter": "python",
   "pygments_lexer": "ipython3",
   "version": "3.8.7"
  }
 },
 "nbformat": 4,
 "nbformat_minor": 5
}
